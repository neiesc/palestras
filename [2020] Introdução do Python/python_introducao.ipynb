{
  "nbformat": 4,
  "nbformat_minor": 0,
  "metadata": {
    "colab": {
      "name": "python_introducao.ipynb",
      "provenance": [],
      "collapsed_sections": [],
      "toc_visible": true,
      "authorship_tag": "ABX9TyN5LsyEkOhNyFsHpAugwXkS",
      "include_colab_link": true
    },
    "kernelspec": {
      "name": "python3",
      "display_name": "Python 3"
    }
  },
  "cells": [
    {
      "cell_type": "markdown",
      "metadata": {
        "id": "view-in-github",
        "colab_type": "text"
      },
      "source": [
        "<a href=\"https://colab.research.google.com/github/iariopreto/python-introducao-workshop/blob/master/python_introducao.ipynb\" target=\"_parent\"><img src=\"https://colab.research.google.com/assets/colab-badge.svg\" alt=\"Open In Colab\"/></a>"
      ]
    },
    {
      "cell_type": "code",
      "metadata": {
        "colab_type": "code",
        "id": "9xrJ5K9fU2Mk",
        "colab": {}
      },
      "source": [
        "from IPython.core.interactiveshell import InteractiveShell \n",
        "InteractiveShell.last_node_interactivity = \"all\""
      ],
      "execution_count": null,
      "outputs": []
    },
    {
      "cell_type": "markdown",
      "metadata": {
        "id": "eJSESOTRLTCx",
        "colab_type": "text"
      },
      "source": [
        "#Workshop Python - Introdução\n",
        "---"
      ]
    },
    {
      "cell_type": "markdown",
      "metadata": {
        "id": "cTEZwX3ENezF",
        "colab_type": "text"
      },
      "source": [
        "[Workshop Python - Introdução no github](https://github.com/iariopreto/python-introducao-workshop)"
      ]
    },
    {
      "cell_type": "markdown",
      "metadata": {
        "id": "_QG2nm0xnPRX",
        "colab_type": "text"
      },
      "source": [
        "##Introdução"
      ]
    },
    {
      "cell_type": "markdown",
      "metadata": {
        "id": "9obO78yoNKo0",
        "colab_type": "text"
      },
      "source": [
        "Criada por Guido van Rossum em 1990 (30 anos) foi lançada em 1991.\n",
        "Python é um linguagem de propósito geralde alto nível, multiparadigma, supotando procedural, orientado a objeto e funcional. Python também é frenquentemente descrito como uma linguagem com \"batteries included\" por causa de sua abragente biblioteca padrão.<br />\n",
        "Somos chamados de pythonistas e programamos de forma pythonica.\n",
        "\n",
        "Podemos fazer construção de sistemas Web com Django, Flask, Pyramid, etc.<br />\n",
        "Análise de dados, Inteligência Artificial, Machine Learning e etc com Numpy, Pandas, Matplotlib, etc<br />\n",
        "Construção de aplicativos com Kivy e Pybee<br />\n",
        "Construção de sistemas desktop com Tkinter, WxPython, etc.<br />\n",
        "Em breve python poderá ser executado nativamente em Android e iOS com o projeto [BeeWare](https://beeware.org/) que está portando o CPython para Android, então vamos ter python em iOS, Android, Windows, macOS, Linux, navegadores e tvOS."
      ]
    },
    {
      "cell_type": "markdown",
      "metadata": {
        "id": "o-0v3bJ_nmC5",
        "colab_type": "text"
      },
      "source": [
        "### PEP (Python Enhancement Proposals)"
      ]
    },
    {
      "cell_type": "markdown",
      "metadata": {
        "id": "B8BHOBqhofkh",
        "colab_type": "text"
      },
      "source": [
        " Propostas de aprimoramento do Python que está catalogado no site [PEP 0](https://www.python.org/dev/peps/) sendo uma das mais famosas a [PEP 8](https://www.python.org/dev/peps/pep-0008/) que é sobre o guia de estilo de códigos Python."
      ]
    },
    {
      "cell_type": "markdown",
      "metadata": {
        "id": "QCQiIWYVnEto",
        "colab_type": "text"
      },
      "source": [
        "### The Zen of Python, by Tim Peters"
      ]
    },
    {
      "cell_type": "code",
      "metadata": {
        "id": "UwKq46-3hcpX",
        "colab_type": "code",
        "colab": {
          "base_uri": "https://localhost:8080/",
          "height": 374
        },
        "outputId": "2a2f91ff-c3af-4f0c-a314-76d62d46935d"
      },
      "source": [
        "import this"
      ],
      "execution_count": null,
      "outputs": [
        {
          "output_type": "stream",
          "text": [
            "The Zen of Python, by Tim Peters\n",
            "\n",
            "Beautiful is better than ugly.\n",
            "Explicit is better than implicit.\n",
            "Simple is better than complex.\n",
            "Complex is better than complicated.\n",
            "Flat is better than nested.\n",
            "Sparse is better than dense.\n",
            "Readability counts.\n",
            "Special cases aren't special enough to break the rules.\n",
            "Although practicality beats purity.\n",
            "Errors should never pass silently.\n",
            "Unless explicitly silenced.\n",
            "In the face of ambiguity, refuse the temptation to guess.\n",
            "There should be one-- and preferably only one --obvious way to do it.\n",
            "Although that way may not be obvious at first unless you're Dutch.\n",
            "Now is better than never.\n",
            "Although never is often better than *right* now.\n",
            "If the implementation is hard to explain, it's a bad idea.\n",
            "If the implementation is easy to explain, it may be a good idea.\n",
            "Namespaces are one honking great idea -- let's do more of those!\n"
          ],
          "name": "stdout"
        }
      ]
    },
    {
      "cell_type": "markdown",
      "metadata": {
        "id": "cpBiv0IJjGfw",
        "colab_type": "text"
      },
      "source": [
        "Sendo a [PEP 20](https://www.python.org/dev/peps/pep-0020)\n",
        "\n",
        "Bonito é melhor que feio.<br />\n",
        "Explícito é melhor que implícito.<br />\n",
        "Simples é melhor que complexo.<br />\n",
        "Complexo é melhor que complicado.<br />\n",
        "Plano é melhor que aglomerado.<br />\n",
        "Esparso é melhor que denso.<br />\n",
        "Legibilidade faz diferença.<br />\n",
        "Casos especiais não são especiais o bastante para quebrar as regras.<br />\n",
        "Embora a praticidade vença a pureza.<br />\n",
        "Erros nunca devem passar silenciosamente.<br />\n",
        "A menos que sejam explicitamente silenciados.<br />\n",
        "Diante da ambigüidade, recuse a tentação de adivinhar.<br />\n",
        "Deve haver um -- e preferencialmente só um -- modo óbvio para fazer algo.<br />\n",
        "Embora esse modo possa não ser óbvio à primeira vista a menos que você seja holandês.<br />\n",
        "Agora é melhor que nunca.<br />\n",
        "Embora nunca freqüentemente seja melhor que `*exatamente*` agora.<br />\n",
        "Se a implementação é difícil de explicar, é uma má idéia.<br />\n",
        "Se a implementação é fácil de explicar, pode ser uma boa idéia.<br />\n",
        "Namespaces são uma grande idéia -- vamos fazer mais dessas!<br />\n",
        "https://zen-of-python.info/<br />\n",
        "https://wiki.python.org.br/TheZenOfPython\n"
      ]
    },
    {
      "cell_type": "markdown",
      "metadata": {
        "id": "KavaZRmydvcs",
        "colab_type": "text"
      },
      "source": [
        "### Python 2.7.x e Python 3.x"
      ]
    },
    {
      "cell_type": "markdown",
      "metadata": {
        "id": "V0jvp2gEbx7_",
        "colab_type": "text"
      },
      "source": [
        "### Instalação"
      ]
    },
    {
      "cell_type": "markdown",
      "metadata": {
        "id": "Y_lAUWhLcFWV",
        "colab_type": "text"
      },
      "source": [
        "Para Mac OS X e GNU/Linux vem nativo na maioria das distros.\n",
        "Para Windows https://www.python.org/downloads/windows/ recomando usar chocolatey `choco install python`.\n",
        "\n",
        "Você também pode usar [docker](https://hub.docker.com/r/jupyter/datascience-notebook) `docker pull jupyter/datascience-notebook` que já ta incluso o jupyter e outras bibliotecas [link para tutorial](https://medium.com/edinei-dev/fazendo-ci%C3%AAncia-de-dados-com-docker-32b023702aeb), ou pode utilizar o [Google Colab](https://colab.research.google.com/)"
      ]
    },
    {
      "cell_type": "code",
      "metadata": {
        "id": "ZPJqYhGiLPql",
        "colab_type": "code",
        "colab": {
          "base_uri": "https://localhost:8080/",
          "height": 34
        },
        "outputId": "84739135-83ef-4a13-b152-44efffa2b7bb"
      },
      "source": [
        "!python --version"
      ],
      "execution_count": null,
      "outputs": [
        {
          "output_type": "stream",
          "text": [
            "Python 3.6.9\n"
          ],
          "name": "stdout"
        }
      ]
    },
    {
      "cell_type": "markdown",
      "metadata": {
        "id": "9Qpqv9VU9wvt",
        "colab_type": "text"
      },
      "source": [
        "#### Visual Studio Code"
      ]
    },
    {
      "cell_type": "markdown",
      "metadata": {
        "id": "M7nyQZjW90Yf",
        "colab_type": "text"
      },
      "source": [
        "Extensões:\n",
        "\n",
        "1.   [Python](https://marketplace.visualstudio.com/items?itemName=ms-python.python)\n",
        "2.   [Python Preview](https://marketplace.visualstudio.com/items?itemName=dongli.python-preview)\n",
        "3.   [autoDocstring](https://marketplace.visualstudio.com/items?itemName=njpwerner.autodocstring)\n",
        "4.   [Python Test Explorer for Visual Studio Code](https://marketplace.visualstudio.com/items?itemName=LittleFoxTeam.vscode-python-test-adapter)\n",
        "5.   [Pyright](https://marketplace.visualstudio.com/items?itemName=ms-pyright.pyright)\n",
        "\n",
        "Por [Codeshow](https://www.youtube.com/watch?v=I8qaQoNITFI)\n",
        "\n",
        "[Pylint - code analysis for Python](https://www.pylint.org/)<br />\n",
        "[Pylance baseado no Pyright](https://marketplace.visualstudio.com/items?itemName=ms-python.vscode-pylance)"
      ]
    },
    {
      "cell_type": "markdown",
      "metadata": {
        "id": "PIAtBW4uHUCI",
        "colab_type": "text"
      },
      "source": [
        "### SciPy"
      ]
    },
    {
      "cell_type": "markdown",
      "metadata": {
        "id": "CYTv28zUHdSE",
        "colab_type": "text"
      },
      "source": [
        "NumPy<br />\n",
        "Matplotlib<br />\n",
        "IPython<br />\n",
        "SymPy<br />\n",
        "pandas"
      ]
    },
    {
      "cell_type": "markdown",
      "metadata": {
        "id": "yNBSPYcd2Oy1",
        "colab_type": "text"
      },
      "source": [
        "### Comunidade"
      ]
    },
    {
      "cell_type": "markdown",
      "metadata": {
        "id": "smzqW6SR2YFq",
        "colab_type": "text"
      },
      "source": [
        "Python tem uma forte e aberta comunidade tanto internacionalmente quanto nacionalmente como [Pycon US](http://us.pycon.org/) e [PythonBrasil](http://www.pythonbrasil.org.br/) respecitivamente sendo um conferência anual.\n",
        "Contando com [45 comunidades ao redor do mundo](https://pycon.org/).\n",
        "\n",
        "Seja você um programador experiente, um hacker de hobby ou um iniciante, a comunidade Python gostária de recebê-lo.\n",
        "\n",
        "A Pycon US vai ocorrer do dia 15 de abril a 23 em 2020 em Pittsburgh - Pensilvânia. Já a PythonBrasil vai ocorrer do dia 28 de outubro a 02 de novembro de 2020 em Caxias do Sul - Rio Grande do Sul.\n",
        "\n",
        "Temos também a SciPy Conferences que ocorre nos [Estados Unidos](https://conference.scipy.org/), [Europa](https://www.euroscipy.org/) e [Índia](https://scipy.in/2019).\n",
        "\n",
        "Muitas das palastras podem ser vistas no youtube."
      ]
    },
    {
      "cell_type": "markdown",
      "metadata": {
        "id": "9cfhX7mTBfJc",
        "colab_type": "text"
      },
      "source": [
        "#### Comunidades Locais"
      ]
    },
    {
      "cell_type": "markdown",
      "metadata": {
        "id": "U8bQLFIFBox9",
        "colab_type": "text"
      },
      "source": [
        "Temos também comunidades espalhadas pelos brasil acesse: https://python.org.br/comunidades-locais/"
      ]
    },
    {
      "cell_type": "markdown",
      "metadata": {
        "id": "yPwmLBpQCCof",
        "colab_type": "text"
      },
      "source": [
        "#### Comunidades nas rede sociais"
      ]
    },
    {
      "cell_type": "markdown",
      "metadata": {
        "id": "7_W4RMDcAKPy",
        "colab_type": "text"
      },
      "source": [
        "Também temos as comunidades as redes sociais.\n",
        "\n",
        "https://groups.google.com/forum/#!forum/python-brasil<br />\n",
        "https://www.facebook.com/groups/python.brasil/<br />\n",
        "https://twitter.com/pythonbrasil<br />\n",
        "https://github.com/pythonbrasil<br />\n",
        "https://t.me/pythonbrasil<br />\n",
        "https://t.me/PyCoding<br />\n",
        "https://github.com/alexmoreno/telegram-br#python<br />\n",
        "https://www.pythonweekly.com/<br />\n",
        "https://pycoders.com/"
      ]
    },
    {
      "cell_type": "markdown",
      "metadata": {
        "id": "pgPtEqCjOQYp",
        "colab_type": "text"
      },
      "source": [
        "## Variáveis"
      ]
    },
    {
      "cell_type": "markdown",
      "metadata": {
        "id": "QP9wWDoGS_XG",
        "colab_type": "text"
      },
      "source": [
        "### Tipos embutidos (Built-in Types)"
      ]
    },
    {
      "cell_type": "code",
      "metadata": {
        "id": "BZt09Yx_R0MY",
        "colab_type": "code",
        "colab": {
          "base_uri": "https://localhost:8080/",
          "height": 187
        },
        "outputId": "b4ad5f02-976d-46ae-c173-d1c81af859bc"
      },
      "source": [
        "print(type(True))\n",
        "print(type('Hello World'))\n",
        "print(type(2))\n",
        "print(type(2.0))\n",
        "print(type(2j))\n",
        "print(type(['a', 1]))\n",
        "print(type(('a', 1)))\n",
        "print(type({'a': 1}))\n",
        "print(type((set([1, 1]))))"
      ],
      "execution_count": null,
      "outputs": [
        {
          "output_type": "stream",
          "text": [
            "<class 'bool'>\n",
            "<class 'str'>\n",
            "<class 'int'>\n",
            "<class 'float'>\n",
            "<class 'complex'>\n",
            "<class 'list'>\n",
            "<class 'tuple'>\n",
            "<class 'dict'>\n",
            "<class 'set'>\n",
            "<class 'set'>\n"
          ],
          "name": "stdout"
        }
      ]
    },
    {
      "cell_type": "markdown",
      "metadata": {
        "id": "24_jz7nUUTU0",
        "colab_type": "text"
      },
      "source": [
        "### Variáveis"
      ]
    },
    {
      "cell_type": "code",
      "metadata": {
        "id": "jDPPJbqUUYre",
        "colab_type": "code",
        "colab": {
          "base_uri": "https://localhost:8080/",
          "height": 51
        },
        "outputId": "457750bb-12be-498e-e3da-20b560f54c71"
      },
      "source": [
        "greeting = \"Olá, Python\"\n",
        "age = 30\n",
        "pi = 3.14\n",
        "\n",
        "print(f\"{_greeting}, Idade: {age}, PI: {pi}\")\n",
        "print(f\"Types: {type(_greeting)}, Idade: {type(age)}, PI: {type(pi)}\")"
      ],
      "execution_count": null,
      "outputs": [
        {
          "output_type": "stream",
          "text": [
            "Olá, Python, Idade: 30, PI: 3.14\n",
            "Types: <class 'str'>, Idade: <class 'int'>, PI: <class 'float'>\n"
          ],
          "name": "stdout"
        }
      ]
    },
    {
      "cell_type": "markdown",
      "metadata": {
        "id": "KeCTlF5NYVLV",
        "colab_type": "text"
      },
      "source": [
        "É uma convenção entre os programadores Python começar a variável com letras minúsculas e utilizar o underscore (_) para separar palavras como: **meu_nome**, **numero_de_cadastro**, **telefone_residencial**. Esse padrão é chamado de **snake case**. Variáveis também podem começar com underscore (_) mas deve ser evitado e utilizado em casos mais específicos.\n",
        "Se usar um nopme ilegal, o interpretador vai acusar um erro"
      ]
    },
    {
      "cell_type": "code",
      "metadata": {
        "id": "ejMW7z7WYurX",
        "colab_type": "code",
        "colab": {
          "base_uri": "https://localhost:8080/",
          "height": 131
        },
        "outputId": "2342693c-26d7-483e-fd8b-11aa553d8760"
      },
      "source": [
        "1nome = \"Python\""
      ],
      "execution_count": null,
      "outputs": [
        {
          "output_type": "error",
          "ename": "SyntaxError",
          "evalue": "ignored",
          "traceback": [
            "\u001b[0;36m  File \u001b[0;32m\"<ipython-input-26-06e372a7c93b>\"\u001b[0;36m, line \u001b[0;32m1\u001b[0m\n\u001b[0;31m    1nome = \"Python\"\u001b[0m\n\u001b[0m        ^\u001b[0m\n\u001b[0;31mSyntaxError\u001b[0m\u001b[0;31m:\u001b[0m invalid syntax\n"
          ]
        }
      ]
    },
    {
      "cell_type": "code",
      "metadata": {
        "id": "Eso2qk_0ZQiK",
        "colab_type": "code",
        "colab": {
          "base_uri": "https://localhost:8080/",
          "height": 131
        },
        "outputId": "f1ea6e2b-f404-452f-e0e8-8d8e9ab15cab"
      },
      "source": [
        "numero@ = 42"
      ],
      "execution_count": null,
      "outputs": [
        {
          "output_type": "error",
          "ename": "SyntaxError",
          "evalue": "ignored",
          "traceback": [
            "\u001b[0;36m  File \u001b[0;32m\"<ipython-input-27-d9f59dcc085f>\"\u001b[0;36m, line \u001b[0;32m1\u001b[0m\n\u001b[0;31m    numero@ = 42\u001b[0m\n\u001b[0m            ^\u001b[0m\n\u001b[0;31mSyntaxError\u001b[0m\u001b[0;31m:\u001b[0m invalid syntax\n"
          ]
        }
      ]
    },
    {
      "cell_type": "code",
      "metadata": {
        "id": "fi0oXm_YZghK",
        "colab_type": "code",
        "colab": {
          "base_uri": "https://localhost:8080/",
          "height": 131
        },
        "outputId": "e85187a2-85d4-44d2-ea7c-2a08d9d9268e"
      },
      "source": [
        "class = 'test'"
      ],
      "execution_count": null,
      "outputs": [
        {
          "output_type": "error",
          "ename": "SyntaxError",
          "evalue": "ignored",
          "traceback": [
            "\u001b[0;36m  File \u001b[0;32m\"<ipython-input-28-f8a641588405>\"\u001b[0;36m, line \u001b[0;32m1\u001b[0m\n\u001b[0;31m    class = 'test'\u001b[0m\n\u001b[0m          ^\u001b[0m\n\u001b[0;31mSyntaxError\u001b[0m\u001b[0;31m:\u001b[0m invalid syntax\n"
          ]
        }
      ]
    },
    {
      "cell_type": "markdown",
      "metadata": {
        "id": "pfECI-naZomT",
        "colab_type": "text"
      },
      "source": [
        "**1nome** é ilegal porque começa com um número.\n",
        "**numero@** é ilegal porque contém um caractere especial o @.\n",
        "E **class** é ilegal porque é uma **palavra reservada** da linguagem.\n",
        "\n",
        "Python possiu 33 palavras reservadas:\n",
        "```\n",
        " and        del        from        None        True\n",
        " as        elif        global        nonlocal        try\n",
        " assert        else        if        not        while\n",
        " break        except        import        or        with\n",
        " class        False        in        pass        yield\n",
        " continue        finaly        is        raise        def\n",
        " for        lambda        return\n",
        "```\n",
        "Portanto, não podemos ser utilizadas ao nomear variáveis."
      ]
    },
    {
      "cell_type": "markdown",
      "metadata": {
        "id": "1xK_46i05ZF4",
        "colab_type": "text"
      },
      "source": [
        "### Operadores Aritméticos"
      ]
    },
    {
      "cell_type": "markdown",
      "metadata": {
        "id": "HRDOVS83eCsp",
        "colab_type": "text"
      },
      "source": [
        "São os seguintes operadores `+, -, *, / e **` que representão, respectivamente, adição, subtração, multiplicação, divisão e potenciação."
      ]
    },
    {
      "cell_type": "code",
      "metadata": {
        "id": "BdtU3NKDfAVx",
        "colab_type": "code",
        "colab": {
          "base_uri": "https://localhost:8080/",
          "height": 34
        },
        "outputId": "2d0c2846-e8a5-404e-d9eb-99485e52a890"
      },
      "source": [
        "1 + 1"
      ],
      "execution_count": null,
      "outputs": [
        {
          "output_type": "execute_result",
          "data": {
            "text/plain": [
              "2"
            ]
          },
          "metadata": {
            "tags": []
          },
          "execution_count": 29
        }
      ]
    },
    {
      "cell_type": "code",
      "metadata": {
        "id": "ZQcbWZyNfGV-",
        "colab_type": "code",
        "colab": {
          "base_uri": "https://localhost:8080/",
          "height": 34
        },
        "outputId": "90e19799-56aa-4f6a-8e16-401546e58754"
      },
      "source": [
        "x = 1\n",
        "y = 2\n",
        "x + y"
      ],
      "execution_count": null,
      "outputs": [
        {
          "output_type": "execute_result",
          "data": {
            "text/plain": [
              "3"
            ]
          },
          "metadata": {
            "tags": []
          },
          "execution_count": 32
        }
      ]
    },
    {
      "cell_type": "code",
      "metadata": {
        "id": "yWPm8WCZfiim",
        "colab_type": "code",
        "colab": {
          "base_uri": "https://localhost:8080/",
          "height": 34
        },
        "outputId": "c169d0ec-97c9-4b29-e2c6-fbe376eae6d5"
      },
      "source": [
        "x / y"
      ],
      "execution_count": null,
      "outputs": [
        {
          "output_type": "execute_result",
          "data": {
            "text/plain": [
              "0.5"
            ]
          },
          "metadata": {
            "tags": []
          },
          "execution_count": 33
        }
      ]
    },
    {
      "cell_type": "code",
      "metadata": {
        "id": "aTI2w8LeftzT",
        "colab_type": "code",
        "colab": {
          "base_uri": "https://localhost:8080/",
          "height": 34
        },
        "outputId": "913d9d99-40b1-4427-8133-4e4ebaa79a73"
      },
      "source": [
        "x ** y"
      ],
      "execution_count": null,
      "outputs": [
        {
          "output_type": "execute_result",
          "data": {
            "text/plain": [
              "1"
            ]
          },
          "metadata": {
            "tags": []
          },
          "execution_count": 34
        }
      ]
    },
    {
      "cell_type": "markdown",
      "metadata": {
        "id": "VfSWhdpXf_8L",
        "colab_type": "text"
      },
      "source": [
        "Além dos operadores comentados, temos também o operador `//` e `%` que representa a divisão inteira e resto da divisão entre dois numeros inteiros (módulo):"
      ]
    },
    {
      "cell_type": "code",
      "metadata": {
        "id": "CT9NY1TLgSWv",
        "colab_type": "code",
        "colab": {
          "base_uri": "https://localhost:8080/",
          "height": 34
        },
        "outputId": "f55f40ad-44aa-4684-ba64-0d8637a7f345"
      },
      "source": [
        "7 // 2"
      ],
      "execution_count": null,
      "outputs": [
        {
          "output_type": "execute_result",
          "data": {
            "text/plain": [
              "3"
            ]
          },
          "metadata": {
            "tags": []
          },
          "execution_count": 42
        }
      ]
    },
    {
      "cell_type": "code",
      "metadata": {
        "id": "jGY_FqbzhixI",
        "colab_type": "code",
        "colab": {
          "base_uri": "https://localhost:8080/",
          "height": 34
        },
        "outputId": "db543bca-ffaa-49e8-af15-3fd8934b532d"
      },
      "source": [
        "7 % 2"
      ],
      "execution_count": null,
      "outputs": [
        {
          "output_type": "execute_result",
          "data": {
            "text/plain": [
              "1"
            ]
          },
          "metadata": {
            "tags": []
          },
          "execution_count": 45
        }
      ]
    },
    {
      "cell_type": "markdown",
      "metadata": {
        "id": "NyUOr1ECh3_Z",
        "colab_type": "text"
      },
      "source": [
        "Esse operador é bem útil quando queremos saber se um número é divisível por outro, ou se um número é impar ou par."
      ]
    },
    {
      "cell_type": "markdown",
      "metadata": {
        "id": "z2l4Kugt2FGp",
        "colab_type": "text"
      },
      "source": [
        "### Strings"
      ]
    },
    {
      "cell_type": "code",
      "metadata": {
        "id": "osFe8LohEpdC",
        "colab_type": "code",
        "colab": {}
      },
      "source": [
        "geeting = \"Olá\""
      ],
      "execution_count": null,
      "outputs": []
    },
    {
      "cell_type": "markdown",
      "metadata": {
        "id": "B5EwdObJ3w7y",
        "colab_type": "text"
      },
      "source": [
        "![str olá](https://github.com/iariopreto/python-introducao-workshop/raw/master/assets/str_ola.png)"
      ]
    },
    {
      "cell_type": "code",
      "metadata": {
        "id": "EwcTpGkWFPnm",
        "colab_type": "code",
        "colab": {
          "base_uri": "https://localhost:8080/",
          "height": 34
        },
        "outputId": "d8fadfeb-21e2-4ead-940c-d40ee26500be"
      },
      "source": [
        "geeting[2]"
      ],
      "execution_count": null,
      "outputs": [
        {
          "output_type": "execute_result",
          "data": {
            "text/plain": [
              "'á'"
            ]
          },
          "metadata": {
            "tags": []
          },
          "execution_count": 11
        }
      ]
    },
    {
      "cell_type": "code",
      "metadata": {
        "id": "RNwzOYdDFUI6",
        "colab_type": "code",
        "colab": {
          "base_uri": "https://localhost:8080/",
          "height": 34
        },
        "outputId": "8b074018-f333-4b93-9c1d-acceb7c4cf93"
      },
      "source": [
        "geeting[-1]"
      ],
      "execution_count": null,
      "outputs": [
        {
          "output_type": "execute_result",
          "data": {
            "text/plain": [
              "'á'"
            ]
          },
          "metadata": {
            "tags": []
          },
          "execution_count": 12
        }
      ]
    },
    {
      "cell_type": "markdown",
      "metadata": {
        "id": "zEj5FQjG4SM-",
        "colab_type": "text"
      },
      "source": [
        "#### String *Slices*"
      ]
    },
    {
      "cell_type": "code",
      "metadata": {
        "id": "Co45q9QZExJB",
        "colab_type": "code",
        "colab": {
          "base_uri": "https://localhost:8080/",
          "height": 34
        },
        "outputId": "009ad64e-4f5d-4546-cee1-d457c87ed87e"
      },
      "source": [
        "geeting[1:3]"
      ],
      "execution_count": null,
      "outputs": [
        {
          "output_type": "execute_result",
          "data": {
            "text/plain": [
              "'lá'"
            ]
          },
          "metadata": {
            "tags": []
          },
          "execution_count": 7
        }
      ]
    },
    {
      "cell_type": "code",
      "metadata": {
        "id": "QTg1DajxE9qu",
        "colab_type": "code",
        "colab": {
          "base_uri": "https://localhost:8080/",
          "height": 34
        },
        "outputId": "3081d217-fd24-4b9c-c939-57e6cf58bb8f"
      },
      "source": [
        "geeting[1:]"
      ],
      "execution_count": null,
      "outputs": [
        {
          "output_type": "execute_result",
          "data": {
            "text/plain": [
              "'lá'"
            ]
          },
          "metadata": {
            "tags": []
          },
          "execution_count": 8
        }
      ]
    },
    {
      "cell_type": "code",
      "metadata": {
        "id": "A-wb9ZDIFGo6",
        "colab_type": "code",
        "colab": {
          "base_uri": "https://localhost:8080/",
          "height": 34
        },
        "outputId": "89362394-d612-490e-90c6-b8b719537322"
      },
      "source": [
        "geeting[:]"
      ],
      "execution_count": null,
      "outputs": [
        {
          "output_type": "execute_result",
          "data": {
            "text/plain": [
              "'Olá'"
            ]
          },
          "metadata": {
            "tags": []
          },
          "execution_count": 9
        }
      ]
    },
    {
      "cell_type": "code",
      "metadata": {
        "id": "DFC7j_hYFJgr",
        "colab_type": "code",
        "colab": {
          "base_uri": "https://localhost:8080/",
          "height": 34
        },
        "outputId": "83269ec3-eee9-4386-befa-ed2d58f898b8"
      },
      "source": [
        "geeting[:-2]"
      ],
      "execution_count": null,
      "outputs": [
        {
          "output_type": "execute_result",
          "data": {
            "text/plain": [
              "'O'"
            ]
          },
          "metadata": {
            "tags": []
          },
          "execution_count": 15
        }
      ]
    },
    {
      "cell_type": "code",
      "metadata": {
        "id": "ro7Wv-hrGBWo",
        "colab_type": "code",
        "colab": {
          "base_uri": "https://localhost:8080/",
          "height": 34
        },
        "outputId": "4363e0e7-9a56-434f-e138-bfa7fd3db708"
      },
      "source": [
        "geeting[len(geeting)::-1]"
      ],
      "execution_count": null,
      "outputs": [
        {
          "output_type": "execute_result",
          "data": {
            "text/plain": [
              "'álO'"
            ]
          },
          "metadata": {
            "tags": []
          },
          "execution_count": 16
        }
      ]
    },
    {
      "cell_type": "markdown",
      "metadata": {
        "id": "KHz7sVWR-DfU",
        "colab_type": "text"
      },
      "source": [
        "### Listas"
      ]
    },
    {
      "cell_type": "code",
      "metadata": {
        "id": "KEeA-ZbD-J2-",
        "colab_type": "code",
        "colab": {
          "base_uri": "https://localhost:8080/",
          "height": 34
        },
        "outputId": "03e4f404-c2d5-443e-d3fb-e09e2e02b646"
      },
      "source": [
        "frutas = ['manga', 'banana', 'morango']\n",
        "frutas"
      ],
      "execution_count": null,
      "outputs": [
        {
          "output_type": "execute_result",
          "data": {
            "text/plain": [
              "['manga', 'banana', 'morango']"
            ]
          },
          "metadata": {
            "tags": []
          },
          "execution_count": 3
        }
      ]
    },
    {
      "cell_type": "markdown",
      "metadata": {
        "id": "wJI5uYy2BQoi",
        "colab_type": "text"
      },
      "source": [
        "![List frutas](https://github.com/iariopreto/python-introducao-workshop/raw/master/assets/list_frutas.png)"
      ]
    },
    {
      "cell_type": "markdown",
      "metadata": {
        "id": "zuq4Q_9XG6HC",
        "colab_type": "text"
      },
      "source": [
        "#### Tipos mutáveis vs. imutáveis"
      ]
    },
    {
      "cell_type": "markdown",
      "metadata": {
        "id": "Y6sNoFF2HDi6",
        "colab_type": "text"
      },
      "source": [
        "##### Tipos imutáveis"
      ]
    },
    {
      "cell_type": "markdown",
      "metadata": {
        "id": "ebKZ5KG9L1sP",
        "colab_type": "text"
      },
      "source": [
        "Alguns que são imitáveis:\n",
        "inteiros (ex: x = 3)\n",
        "\n",
        "*   flutuadores (ex: x = 3,14)\n",
        "*   strings (ex: x = \"Hello\")\n",
        "*   tuplas (ex: x = (20, 4))\n",
        "*   intervalos (ex: range(6))\n",
        "*   booleanos (ex: x = True)"
      ]
    },
    {
      "cell_type": "code",
      "metadata": {
        "id": "N8p5zRj4IBzz",
        "colab_type": "code",
        "colab": {
          "base_uri": "https://localhost:8080/",
          "height": 85
        },
        "outputId": "2261f359-10b5-4dc5-ec2d-928b6d66bf27"
      },
      "source": [
        "age = 42\n",
        "print(f\"age = id: {id(age)}, tipo: {type(age)}, valor: {age}\")\n",
        "\n",
        "foo = age\n",
        "print(f\"foo igual age = id: {id(foo)}, valor: {foo}\")\n",
        "\n",
        "foo = 10\n",
        "print(f\"Novo foo = id: {id(foo)}, valor: {foo}\")\n",
        "\n",
        "print(f\"age = id: {id(age)}, valor: {age}\")"
      ],
      "execution_count": null,
      "outputs": [
        {
          "output_type": "stream",
          "text": [
            "age = id: 10915808, tipo: <class 'int'>, valor: 42\n",
            "foo igual age = id: 10915808, valor: 42\n",
            "Novo foo = id: 10914784, valor: 10\n",
            "age = id: 10915808, valor: 42\n"
          ],
          "name": "stdout"
        }
      ]
    },
    {
      "cell_type": "markdown",
      "metadata": {
        "id": "W2x3394rKXKJ",
        "colab_type": "text"
      },
      "source": [
        "#### Tipos mutáveis"
      ]
    },
    {
      "cell_type": "markdown",
      "metadata": {
        "id": "E5xxKEwrMGoN",
        "colab_type": "text"
      },
      "source": [
        "Os tipos mitáveis são:\n",
        "\n",
        "*   listas\n",
        "*   dicionários\n",
        "*   conjuntos (set)\n",
        "*   bytearrays\n",
        "*   classes definidas pelo usuário\n",
        "\n"
      ]
    },
    {
      "cell_type": "code",
      "metadata": {
        "id": "EDhPj3CQKcPZ",
        "colab_type": "code",
        "colab": {
          "base_uri": "https://localhost:8080/",
          "height": 85
        },
        "outputId": "b522ee8b-364c-4402-cdaa-d94eda85b50c"
      },
      "source": [
        "frutas = ['manga', 'banana', 'morango']\n",
        "print(f\"frutas = id: {id(frutas)}, tipo: {type(frutas)}, valor: {frutas}\")\n",
        "\n",
        "foo = frutas\n",
        "print(f\"foo = id: {id(foo)},, valor: {foo}\")\n",
        "\n",
        "foo.append('uva')\n",
        "print(f\"foo = id: {id(foo)},, valor: {foo}\")\n",
        "\n",
        "print(f\"frutas = id: {id(frutas)},, valor: {frutas}\")"
      ],
      "execution_count": null,
      "outputs": [
        {
          "output_type": "stream",
          "text": [
            "frutas = id: 139814124532232, tipo: <class 'list'>, valor: ['manga', 'banana', 'morango']\n",
            "foo = id: 139814124532232,, valor: ['manga', 'banana', 'morango']\n",
            "foo = id: 139814124532232,, valor: ['manga', 'banana', 'morango', 'uva']\n",
            "frutas = id: 139814124532232,, valor: ['manga', 'banana', 'morango', 'uva']\n"
          ],
          "name": "stdout"
        }
      ]
    },
    {
      "cell_type": "markdown",
      "metadata": {
        "id": "3jlezQVEDGKX",
        "colab_type": "text"
      },
      "source": [
        "```python\n",
        "frutas = ['manga', 'banana', 'morango']\n",
        "foo = frutas\n",
        "bar = frutas.copy()\n",
        "```"
      ]
    },
    {
      "cell_type": "markdown",
      "metadata": {
        "id": "uv1PzE-jEKIc",
        "colab_type": "text"
      },
      "source": [
        "![Python tutor list copy](https://github.com/iariopreto/python-introducao-workshop/raw/master/assets/pythontutor_list_copy.png)"
      ]
    },
    {
      "cell_type": "markdown",
      "metadata": {
        "id": "nvgCHsMG-944",
        "colab_type": "text"
      },
      "source": [
        "#### List Slices"
      ]
    },
    {
      "cell_type": "markdown",
      "metadata": {
        "id": "E5HMtK9dNsEF",
        "colab_type": "text"
      },
      "source": [
        "## Modulos e pacotes"
      ]
    },
    {
      "cell_type": "markdown",
      "metadata": {
        "id": "QTU8xUuMtEy_",
        "colab_type": "text"
      },
      "source": [
        "Breve explicação de como é no python.\n",
        "- Script Python (Arquivo *.py) é considerado como Módulo.\n",
        "- Um diretório (pasta) é indicado como pacote quando este conta com a presença do arquivo `__init__.py`\n",
        "- Um pacote pode conter vários outros módulos, chamamos de submódulos."
      ]
    },
    {
      "cell_type": "code",
      "metadata": {
        "id": "ju_EQ81qUSvO",
        "colab_type": "code",
        "colab": {
          "base_uri": "https://localhost:8080/",
          "height": 34
        },
        "outputId": "6c7caf7e-479d-48d8-fa86-2cd8af176e30"
      },
      "source": [
        "import requests\n",
        "r = requests.get('https://www.python.org/')\n",
        "r.status_code"
      ],
      "execution_count": null,
      "outputs": [
        {
          "output_type": "execute_result",
          "data": {
            "text/plain": [
              "200"
            ]
          },
          "metadata": {
            "tags": []
          },
          "execution_count": 1
        }
      ]
    },
    {
      "cell_type": "markdown",
      "metadata": {
        "id": "zdv_5rUkrNNr",
        "colab_type": "text"
      },
      "source": [
        "Note que, em geral, a prática do `import *` de um módulo ou pacote é desaprovada, uma vez que muitas vezes dificulta a leitura do código. Contudo, é aceitável para diminuir a digitação em sessões interativas.\n",
        "Você pude usar `as` nos modulos para dar um apelido, Exemplo:\n",
        "```\n",
        "import fibo as fib\n",
        "from fibo import fib as fibonacci\n",
        "```"
      ]
    },
    {
      "cell_type": "markdown",
      "metadata": {
        "id": "7Uvm-s27N2lw",
        "colab_type": "text"
      },
      "source": [
        "### Instalando modulos"
      ]
    },
    {
      "cell_type": "code",
      "metadata": {
        "id": "zPD8yS9hVOvB",
        "colab_type": "code",
        "colab": {
          "base_uri": "https://localhost:8080/",
          "height": 301
        },
        "outputId": "64aff87d-12d8-46ab-d7ae-e5d5c545f8b3"
      },
      "source": [
        "import rows"
      ],
      "execution_count": null,
      "outputs": [
        {
          "output_type": "error",
          "ename": "ModuleNotFoundError",
          "evalue": "ignored",
          "traceback": [
            "\u001b[0;31m---------------------------------------------------------------------------\u001b[0m",
            "\u001b[0;31mModuleNotFoundError\u001b[0m                       Traceback (most recent call last)",
            "\u001b[0;32m<ipython-input-7-bc75a4368a85>\u001b[0m in \u001b[0;36m<module>\u001b[0;34m()\u001b[0m\n\u001b[0;32m----> 1\u001b[0;31m \u001b[0;32mimport\u001b[0m \u001b[0mrows\u001b[0m\u001b[0;34m\u001b[0m\u001b[0;34m\u001b[0m\u001b[0m\n\u001b[0m",
            "\u001b[0;31mModuleNotFoundError\u001b[0m: No module named 'rows'",
            "",
            "\u001b[0;31m---------------------------------------------------------------------------\u001b[0;32m\nNOTE: If your import is failing due to a missing package, you can\nmanually install dependencies using either !pip or !apt.\n\nTo view examples of installing some common dependencies, click the\n\"Open Examples\" button below.\n\u001b[0;31m---------------------------------------------------------------------------\u001b[0m\n"
          ]
        }
      ]
    },
    {
      "cell_type": "code",
      "metadata": {
        "id": "SVmoRDPq4ISV",
        "colab_type": "code",
        "colab": {
          "base_uri": "https://localhost:8080/",
          "height": 153
        },
        "outputId": "42e5cbfc-36bf-49a2-bf9a-c8ab3fcb4396"
      },
      "source": [
        "!pip install -U pip"
      ],
      "execution_count": null,
      "outputs": [
        {
          "output_type": "stream",
          "text": [
            "Collecting pip\n",
            "\u001b[?25l  Downloading https://files.pythonhosted.org/packages/54/0c/d01aa759fdc501a58f431eb594a17495f15b88da142ce14b5845662c13f3/pip-20.0.2-py2.py3-none-any.whl (1.4MB)\n",
            "\r\u001b[K     |▎                               | 10kB 20.7MB/s eta 0:00:01\r\u001b[K     |▌                               | 20kB 1.8MB/s eta 0:00:01\r\u001b[K     |▊                               | 30kB 2.6MB/s eta 0:00:01\r\u001b[K     |█                               | 40kB 1.7MB/s eta 0:00:01\r\u001b[K     |█▏                              | 51kB 2.1MB/s eta 0:00:01\r\u001b[K     |█▍                              | 61kB 2.5MB/s eta 0:00:01\r\u001b[K     |█▋                              | 71kB 2.9MB/s eta 0:00:01\r\u001b[K     |█▉                              | 81kB 3.3MB/s eta 0:00:01\r\u001b[K     |██                              | 92kB 3.7MB/s eta 0:00:01\r\u001b[K     |██▎                             | 102kB 2.8MB/s eta 0:00:01\r\u001b[K     |██▌                             | 112kB 2.8MB/s eta 0:00:01\r\u001b[K     |██▊                             | 122kB 2.8MB/s eta 0:00:01\r\u001b[K     |███                             | 133kB 2.8MB/s eta 0:00:01\r\u001b[K     |███▏                            | 143kB 2.8MB/s eta 0:00:01\r\u001b[K     |███▍                            | 153kB 2.8MB/s eta 0:00:01\r\u001b[K     |███▋                            | 163kB 2.8MB/s eta 0:00:01\r\u001b[K     |███▉                            | 174kB 2.8MB/s eta 0:00:01\r\u001b[K     |████                            | 184kB 2.8MB/s eta 0:00:01\r\u001b[K     |████▎                           | 194kB 2.8MB/s eta 0:00:01\r\u001b[K     |████▌                           | 204kB 2.8MB/s eta 0:00:01\r\u001b[K     |████▊                           | 215kB 2.8MB/s eta 0:00:01\r\u001b[K     |█████                           | 225kB 2.8MB/s eta 0:00:01\r\u001b[K     |█████▎                          | 235kB 2.8MB/s eta 0:00:01\r\u001b[K     |█████▌                          | 245kB 2.8MB/s eta 0:00:01\r\u001b[K     |█████▊                          | 256kB 2.8MB/s eta 0:00:01\r\u001b[K     |██████                          | 266kB 2.8MB/s eta 0:00:01\r\u001b[K     |██████▏                         | 276kB 2.8MB/s eta 0:00:01\r\u001b[K     |██████▍                         | 286kB 2.8MB/s eta 0:00:01\r\u001b[K     |██████▋                         | 296kB 2.8MB/s eta 0:00:01\r\u001b[K     |██████▉                         | 307kB 2.8MB/s eta 0:00:01\r\u001b[K     |███████                         | 317kB 2.8MB/s eta 0:00:01\r\u001b[K     |███████▎                        | 327kB 2.8MB/s eta 0:00:01\r\u001b[K     |███████▌                        | 337kB 2.8MB/s eta 0:00:01\r\u001b[K     |███████▊                        | 348kB 2.8MB/s eta 0:00:01\r\u001b[K     |████████                        | 358kB 2.8MB/s eta 0:00:01\r\u001b[K     |████████▏                       | 368kB 2.8MB/s eta 0:00:01\r\u001b[K     |████████▍                       | 378kB 2.8MB/s eta 0:00:01\r\u001b[K     |████████▋                       | 389kB 2.8MB/s eta 0:00:01\r\u001b[K     |████████▉                       | 399kB 2.8MB/s eta 0:00:01\r\u001b[K     |█████████                       | 409kB 2.8MB/s eta 0:00:01\r\u001b[K     |█████████▎                      | 419kB 2.8MB/s eta 0:00:01\r\u001b[K     |█████████▌                      | 430kB 2.8MB/s eta 0:00:01\r\u001b[K     |█████████▉                      | 440kB 2.8MB/s eta 0:00:01\r\u001b[K     |██████████                      | 450kB 2.8MB/s eta 0:00:01\r\u001b[K     |██████████▎                     | 460kB 2.8MB/s eta 0:00:01\r\u001b[K     |██████████▌                     | 471kB 2.8MB/s eta 0:00:01\r\u001b[K     |██████████▊                     | 481kB 2.8MB/s eta 0:00:01\r\u001b[K     |███████████                     | 491kB 2.8MB/s eta 0:00:01\r\u001b[K     |███████████▏                    | 501kB 2.8MB/s eta 0:00:01\r\u001b[K     |███████████▍                    | 512kB 2.8MB/s eta 0:00:01\r\u001b[K     |███████████▋                    | 522kB 2.8MB/s eta 0:00:01\r\u001b[K     |███████████▉                    | 532kB 2.8MB/s eta 0:00:01\r\u001b[K     |████████████                    | 542kB 2.8MB/s eta 0:00:01\r\u001b[K     |████████████▎                   | 552kB 2.8MB/s eta 0:00:01\r\u001b[K     |████████████▌                   | 563kB 2.8MB/s eta 0:00:01\r\u001b[K     |████████████▊                   | 573kB 2.8MB/s eta 0:00:01\r\u001b[K     |█████████████                   | 583kB 2.8MB/s eta 0:00:01\r\u001b[K     |█████████████▏                  | 593kB 2.8MB/s eta 0:00:01\r\u001b[K     |█████████████▍                  | 604kB 2.8MB/s eta 0:00:01\r\u001b[K     |█████████████▋                  | 614kB 2.8MB/s eta 0:00:01\r\u001b[K     |█████████████▉                  | 624kB 2.8MB/s eta 0:00:01\r\u001b[K     |██████████████                  | 634kB 2.8MB/s eta 0:00:01\r\u001b[K     |██████████████▎                 | 645kB 2.8MB/s eta 0:00:01\r\u001b[K     |██████████████▌                 | 655kB 2.8MB/s eta 0:00:01\r\u001b[K     |██████████████▉                 | 665kB 2.8MB/s eta 0:00:01\r\u001b[K     |███████████████                 | 675kB 2.8MB/s eta 0:00:01\r\u001b[K     |███████████████▎                | 686kB 2.8MB/s eta 0:00:01\r\u001b[K     |███████████████▌                | 696kB 2.8MB/s eta 0:00:01\r\u001b[K     |███████████████▊                | 706kB 2.8MB/s eta 0:00:01\r\u001b[K     |████████████████                | 716kB 2.8MB/s eta 0:00:01\r\u001b[K     |████████████████▏               | 727kB 2.8MB/s eta 0:00:01\r\u001b[K     |████████████████▍               | 737kB 2.8MB/s eta 0:00:01\r\u001b[K     |████████████████▋               | 747kB 2.8MB/s eta 0:00:01\r\u001b[K     |████████████████▉               | 757kB 2.8MB/s eta 0:00:01\r\u001b[K     |█████████████████               | 768kB 2.8MB/s eta 0:00:01\r\u001b[K     |█████████████████▎              | 778kB 2.8MB/s eta 0:00:01\r\u001b[K     |█████████████████▌              | 788kB 2.8MB/s eta 0:00:01\r\u001b[K     |█████████████████▊              | 798kB 2.8MB/s eta 0:00:01\r\u001b[K     |██████████████████              | 808kB 2.8MB/s eta 0:00:01\r\u001b[K     |██████████████████▏             | 819kB 2.8MB/s eta 0:00:01\r\u001b[K     |██████████████████▍             | 829kB 2.8MB/s eta 0:00:01\r\u001b[K     |██████████████████▋             | 839kB 2.8MB/s eta 0:00:01\r\u001b[K     |██████████████████▉             | 849kB 2.8MB/s eta 0:00:01\r\u001b[K     |███████████████████             | 860kB 2.8MB/s eta 0:00:01\r\u001b[K     |███████████████████▎            | 870kB 2.8MB/s eta 0:00:01\r\u001b[K     |███████████████████▋            | 880kB 2.8MB/s eta 0:00:01\r\u001b[K     |███████████████████▉            | 890kB 2.8MB/s eta 0:00:01\r\u001b[K     |████████████████████            | 901kB 2.8MB/s eta 0:00:01\r\u001b[K     |████████████████████▎           | 911kB 2.8MB/s eta 0:00:01\r\u001b[K     |████████████████████▌           | 921kB 2.8MB/s eta 0:00:01\r\u001b[K     |████████████████████▊           | 931kB 2.8MB/s eta 0:00:01\r\u001b[K     |█████████████████████           | 942kB 2.8MB/s eta 0:00:01\r\u001b[K     |█████████████████████▏          | 952kB 2.8MB/s eta 0:00:01\r\u001b[K     |█████████████████████▍          | 962kB 2.8MB/s eta 0:00:01\r\u001b[K     |█████████████████████▋          | 972kB 2.8MB/s eta 0:00:01\r\u001b[K     |█████████████████████▉          | 983kB 2.8MB/s eta 0:00:01\r\u001b[K     |██████████████████████          | 993kB 2.8MB/s eta 0:00:01\r\u001b[K     |██████████████████████▎         | 1.0MB 2.8MB/s eta 0:00:01\r\u001b[K     |██████████████████████▌         | 1.0MB 2.8MB/s eta 0:00:01\r\u001b[K     |██████████████████████▊         | 1.0MB 2.8MB/s eta 0:00:01\r\u001b[K     |███████████████████████         | 1.0MB 2.8MB/s eta 0:00:01\r\u001b[K     |███████████████████████▏        | 1.0MB 2.8MB/s eta 0:00:01\r\u001b[K     |███████████████████████▍        | 1.1MB 2.8MB/s eta 0:00:01\r\u001b[K     |███████████████████████▋        | 1.1MB 2.8MB/s eta 0:00:01\r\u001b[K     |███████████████████████▉        | 1.1MB 2.8MB/s eta 0:00:01\r\u001b[K     |████████████████████████        | 1.1MB 2.8MB/s eta 0:00:01\r\u001b[K     |████████████████████████▎       | 1.1MB 2.8MB/s eta 0:00:01\r\u001b[K     |████████████████████████▋       | 1.1MB 2.8MB/s eta 0:00:01\r\u001b[K     |████████████████████████▉       | 1.1MB 2.8MB/s eta 0:00:01\r\u001b[K     |█████████████████████████       | 1.1MB 2.8MB/s eta 0:00:01\r\u001b[K     |█████████████████████████▎      | 1.1MB 2.8MB/s eta 0:00:01\r\u001b[K     |█████████████████████████▌      | 1.1MB 2.8MB/s eta 0:00:01\r\u001b[K     |█████████████████████████▊      | 1.2MB 2.8MB/s eta 0:00:01\r\u001b[K     |██████████████████████████      | 1.2MB 2.8MB/s eta 0:00:01\r\u001b[K     |██████████████████████████▏     | 1.2MB 2.8MB/s eta 0:00:01\r\u001b[K     |██████████████████████████▍     | 1.2MB 2.8MB/s eta 0:00:01\r\u001b[K     |██████████████████████████▋     | 1.2MB 2.8MB/s eta 0:00:01\r\u001b[K     |██████████████████████████▉     | 1.2MB 2.8MB/s eta 0:00:01\r\u001b[K     |███████████████████████████     | 1.2MB 2.8MB/s eta 0:00:01\r\u001b[K     |███████████████████████████▎    | 1.2MB 2.8MB/s eta 0:00:01\r\u001b[K     |███████████████████████████▌    | 1.2MB 2.8MB/s eta 0:00:01\r\u001b[K     |███████████████████████████▊    | 1.2MB 2.8MB/s eta 0:00:01\r\u001b[K     |████████████████████████████    | 1.3MB 2.8MB/s eta 0:00:01\r\u001b[K     |████████████████████████████▏   | 1.3MB 2.8MB/s eta 0:00:01\r\u001b[K     |████████████████████████████▍   | 1.3MB 2.8MB/s eta 0:00:01\r\u001b[K     |████████████████████████████▋   | 1.3MB 2.8MB/s eta 0:00:01\r\u001b[K     |████████████████████████████▉   | 1.3MB 2.8MB/s eta 0:00:01\r\u001b[K     |█████████████████████████████   | 1.3MB 2.8MB/s eta 0:00:01\r\u001b[K     |█████████████████████████████▍  | 1.3MB 2.8MB/s eta 0:00:01\r\u001b[K     |█████████████████████████████▋  | 1.3MB 2.8MB/s eta 0:00:01\r\u001b[K     |█████████████████████████████▉  | 1.3MB 2.8MB/s eta 0:00:01\r\u001b[K     |██████████████████████████████  | 1.4MB 2.8MB/s eta 0:00:01\r\u001b[K     |██████████████████████████████▎ | 1.4MB 2.8MB/s eta 0:00:01\r\u001b[K     |██████████████████████████████▌ | 1.4MB 2.8MB/s eta 0:00:01\r\u001b[K     |██████████████████████████████▊ | 1.4MB 2.8MB/s eta 0:00:01\r\u001b[K     |███████████████████████████████ | 1.4MB 2.8MB/s eta 0:00:01\r\u001b[K     |███████████████████████████████▏| 1.4MB 2.8MB/s eta 0:00:01\r\u001b[K     |███████████████████████████████▍| 1.4MB 2.8MB/s eta 0:00:01\r\u001b[K     |███████████████████████████████▋| 1.4MB 2.8MB/s eta 0:00:01\r\u001b[K     |███████████████████████████████▉| 1.4MB 2.8MB/s eta 0:00:01\r\u001b[K     |████████████████████████████████| 1.4MB 2.8MB/s \n",
            "\u001b[?25hInstalling collected packages: pip\n",
            "  Found existing installation: pip 19.3.1\n",
            "    Uninstalling pip-19.3.1:\n",
            "      Successfully uninstalled pip-19.3.1\n",
            "Successfully installed pip-20.0.2\n"
          ],
          "name": "stdout"
        }
      ]
    },
    {
      "cell_type": "code",
      "metadata": {
        "id": "dgMIXp8yWMmS",
        "colab_type": "code",
        "colab": {
          "base_uri": "https://localhost:8080/",
          "height": 255
        },
        "outputId": "f6e9cd64-89ec-4435-a5df-111dc76b972b"
      },
      "source": [
        "!pip install rows"
      ],
      "execution_count": null,
      "outputs": [
        {
          "output_type": "stream",
          "text": [
            "Collecting rows\n",
            "  Downloading rows-0.4.1-py2.py3-none-any.whl (65 kB)\n",
            "\u001b[?25l\r\u001b[K     |█████                           | 10 kB 32.3 MB/s eta 0:00:01\r\u001b[K     |██████████                      | 20 kB 1.4 MB/s eta 0:00:01\r\u001b[K     |███████████████                 | 30 kB 1.7 MB/s eta 0:00:01\r\u001b[K     |████████████████████▏           | 40 kB 1.6 MB/s eta 0:00:01\r\u001b[K     |█████████████████████████▏      | 51 kB 1.8 MB/s eta 0:00:01\r\u001b[K     |██████████████████████████████▏ | 61 kB 2.1 MB/s eta 0:00:01\r\u001b[K     |████████████████████████████████| 65 kB 1.5 MB/s \n",
            "\u001b[?25hRequirement already satisfied: pathlib in /usr/local/lib/python3.6/dist-packages (from rows) (1.0.1)\n",
            "Requirement already satisfied: six in /usr/local/lib/python3.6/dist-packages (from rows) (1.12.0)\n",
            "Collecting unicodecsv\n",
            "  Downloading unicodecsv-0.14.1.tar.gz (10 kB)\n",
            "Building wheels for collected packages: unicodecsv\n",
            "  Building wheel for unicodecsv (setup.py) ... \u001b[?25l\u001b[?25hdone\n",
            "  Created wheel for unicodecsv: filename=unicodecsv-0.14.1-py3-none-any.whl size=10767 sha256=7b672d2a32a52f17e960515492b72d1cacee90ab9a94b4fc128bed36aaf5b5b5\n",
            "  Stored in directory: /root/.cache/pip/wheels/8d/0b/ff/bbba4ab3cf81844c3f8d130f8c53d392e1224b9750a71f0485\n",
            "Successfully built unicodecsv\n",
            "Installing collected packages: unicodecsv, rows\n",
            "Successfully installed rows-0.4.1 unicodecsv-0.14.1\n"
          ],
          "name": "stdout"
        }
      ]
    },
    {
      "cell_type": "code",
      "metadata": {
        "id": "ErHb53IYWWmb",
        "colab_type": "code",
        "colab": {
          "base_uri": "https://localhost:8080/",
          "height": 207
        },
        "outputId": "aab99635-6135-4361-8645-1db28ee0be5c"
      },
      "source": [
        "import rows\n",
        "\n",
        "# https://gist.github.com/turicas/ec0abcfe0d7abf7a97ef7a0c1d72c7f7\n",
        "cities = rows.import_from_csv(\"brazilian-cities.csv\")\n",
        "print(cities.fields)\n",
        "\n",
        "sp_biggest_cities = [\n",
        "    city for city in cities\n",
        "    if city.state == \"SP\" and city.inhabitants > 500000\n",
        "]\n",
        "for city in sp_biggest_cities:\n",
        "    density = city.inhabitants / city.area\n",
        "    print(f\"{city.city} ({density:5.2f} ppl/km²)\")"
      ],
      "execution_count": null,
      "outputs": [
        {
          "output_type": "stream",
          "text": [
            "OrderedDict([('state', <class 'rows.fields.TextField'>), ('city', <class 'rows.fields.TextField'>), ('inhabitants', <class 'rows.fields.IntegerField'>), ('area', <class 'rows.fields.FloatField'>)])\n",
            "Campinas (1359.61 ppl/km²)\n",
            "Guarulhos (3834.50 ppl/km²)\n",
            "Osasco (10265.43 ppl/km²)\n",
            "Ribeirão Preto (928.91 ppl/km²)\n",
            "Santo André (3848.03 ppl/km²)\n",
            "São Bernardo do Campo (1869.35 ppl/km²)\n",
            "São José dos Campos (572.96 ppl/km²)\n",
            "São Paulo (7398.27 ppl/km²)\n",
            "Sorocaba (1304.19 ppl/km²)\n"
          ],
          "name": "stdout"
        }
      ]
    },
    {
      "cell_type": "markdown",
      "metadata": {
        "id": "ZgiGoT_dAF8t",
        "colab_type": "text"
      },
      "source": [
        "## Aprendendo mais"
      ]
    },
    {
      "cell_type": "markdown",
      "metadata": {
        "id": "KG-UUoM74cID",
        "colab_type": "text"
      },
      "source": [
        "[![Python para Desenvolvedores 3ª edição PT-BR](https://github.com/iariopreto/python-introducao-workshop/raw/master/assets/book_pypd_3ed.jpg)](https://ricardoduarte.github.io/python-para-desenvolvedores/)\n",
        "[![Introdução à Programação com Python por Nilo Ney Coutinho Menezes](https://github.com/iariopreto/python-introducao-workshop/raw/master/assets/book_introducao_python_nilo.jpg)](https://python.nilo.pro.br/)\n",
        "[![Pense em Python (2ª ed.), de Allen B. Downey](https://github.com/iariopreto/python-introducao-workshop/raw/master/assets/book_pense_python.jpg)](https://penseallen.github.io/PensePython2e/)\n",
        "[![Fluent Python](https://github.com/iariopreto/python-introducao-workshop/raw/master/assets/book_fluent_python.jpg)](https://www.amazon.com.br/Fluent-Python-Luciano-Ramalho/dp/1491946008)"
      ]
    },
    {
      "cell_type": "markdown",
      "metadata": {
        "id": "865WUnKvYBIu",
        "colab_type": "text"
      },
      "source": [
        "[The Python Tutorial](https://docs.python.org/3.6/tutorial/index.html)<br />\n",
        "[Introdução à Programação com Python por Nilo Ney Coutinho Menezes](https://python.nilo.pro.br/)<br />\n",
        "[Introdução à Ciência da Computação com Python da CCSL do IME/USP](https://www.youtube.com/playlist?list=PLcoJJSvnDgcKpOi_UeneTNTIVOigRQwcn)<br />\n",
        "[Pycubator (Tradução PT-BR) por Noam Elfanbaum, Udi Oron e Gilson Filho (Tradução)](http://df.python.org.br/pycubator/)<br />\n",
        "[Introdução à Ciência da Computação com Python Parte 1 por coursera](https://www.coursera.org/learn/ciencia-computacao-python-conceitos)<br />\n",
        "[Introdução à Ciência da Computação com Python Parte 2 por Coursera](https://www.coursera.org/learn/ciencia-computacao-python-conceitos-2)<br />\n",
        "[Curso de Python 3 do Básico Ao Avançado (com projetos reais) por Udemy](https://www.udemy.com/course/python-3-do-zero-ao-avancado/)"
      ]
    },
    {
      "cell_type": "markdown",
      "metadata": {
        "id": "dS5aBH30AS22",
        "colab_type": "text"
      },
      "source": [
        "### Python Tutor"
      ]
    },
    {
      "cell_type": "markdown",
      "metadata": {
        "id": "t_b7SayXAXFd",
        "colab_type": "text"
      },
      "source": [
        "http://pythontutor.com/"
      ]
    },
    {
      "cell_type": "markdown",
      "metadata": {
        "id": "rx55-01tknVH",
        "colab_type": "text"
      },
      "source": [
        "### IPython"
      ]
    },
    {
      "cell_type": "markdown",
      "metadata": {
        "id": "XQ4Aw7GR4wgt",
        "colab_type": "text"
      },
      "source": [
        "## Referências"
      ]
    },
    {
      "cell_type": "markdown",
      "metadata": {
        "id": "HVd7uqhLxZi1",
        "colab_type": "text"
      },
      "source": [
        "### Em inglês"
      ]
    },
    {
      "cell_type": "markdown",
      "metadata": {
        "id": "wJhIPkktPI2I",
        "colab_type": "text"
      },
      "source": [
        "https://www.python.org/<br />\n",
        "https://developers.google.com/edu/python<br />\n",
        "https://towardsdatascience.com/immutable-vs-mutable-data-types-in-python-e8a9a6fcfbdc<br />\n",
        "https://devblogs.microsoft.com/python/announcing-pylance-fast-feature-rich-language-support-for-python-in-visual-studio-code/<br />\n",
        "https://devblogs.microsoft.com/python/python-in-visual-studio-code-july-2020-release/"
      ]
    },
    {
      "cell_type": "markdown",
      "metadata": {
        "id": "oZ6cVPEkxVk4",
        "colab_type": "text"
      },
      "source": [
        "### Em português"
      ]
    },
    {
      "cell_type": "markdown",
      "metadata": {
        "id": "jSspIbZs43OE",
        "colab_type": "text"
      },
      "source": [
        "https://docs.python.org/pt-br/3.6/index.html<br />\n",
        "https://python.org.br/<br />\n",
        "https://www.caelum.com.br/apostila-python-orientacao-objetos/declarando-e-usando-variaveis/<br />\n",
        "https://pt.stackoverflow.com/questions/192343/o-que-%C3%A9-c%C3%B3digo-pyth%C3%B4nico<br />\n",
        "https://www.agatetepe.com.br/o-que-sao-objetos-mutaveis-e-imutaveis-no-python3/<br />\n",
        "https://sempreupdate.com.br/aplicativos-python-poderao-ser-executados-no-android-em-breve/<br />\n",
        "http://devfuria.com.br/python/modulos-pacotes/"
      ]
    }
  ]
}